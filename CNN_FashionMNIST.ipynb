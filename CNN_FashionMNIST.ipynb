{
 "cells": [
  {
   "cell_type": "markdown",
   "metadata": {},
   "source": [
    "# Image Classifcation with Convolutional Neural Networks\n",
    "\n",
    "Author: Christoph Schauer <br/>\n",
    "Date: 04.05.2019"
   ]
  },
  {
   "cell_type": "markdown",
   "metadata": {},
   "source": [
    "## Introduction\n",
    "\n",
    "In this notebook, I train a simple convolutional neural network (CNN) in PyTorch to classify images using Zalando's [Fashion-MNIST dataset](https://github.com/zalandoresearch/fashion-mnist). From their description:\n",
    "\n",
    "*Fashion-MNIST is a dataset of Zalando’s article images consisting of a training set of 60,000 examples and a test set of 10,000 examples. Each example is a 28×28 grayscale image [of a piece of clothing], associated with a label from 10 classes. Fashion-MNIST is intended to serve as a direct drop-in replacement of the original MNIST dataset for benchmarking machine learning algorithms.*\n",
    "\n",
    "These images look like this: \n",
    "\n",
    "<img src='fashion-mnist-sprite.png' width=840px>\n",
    "\n",
    "<br>\n",
    "<br>\n",
    "The images in this dataset are small and regular and the classes are balanced, so you don't need to spend much time worrying about data preprocessing or metrics and and can focus on the neural network itself.\n",
    "\n",
    "I'm training a simple neural network consisting of two convolutional layers with two pooling layers followed by three fully connected layers. This network achieves a prediction accuracy of 90% on the test set. It does have some trouble however with distinguishing between two very similar classes: Shirts and t-shirts. \n",
    "\n",
    "I originally wrote this notebook for myself as as reference for future projects with PyTorch. If you're looking for detailed explanations on how convolutional neural networks work and tutorials on how to implement them in PyTorch, see: \n",
    "* [How Convolutional Neural Networks Work](https://www.youtube.com/watch?v=FmpDIaiMIeA) by Brandon Rohrer on YouTube\n",
    "* Official PyTorch tutorial for CNNs: [60 Minute Blitz > Training a Classifier](https://pytorch.org/tutorials/beginner/blitz/cifar10_tutorial.html#sphx-glr-beginner-blitz-cifar10-tutorial-py) \n",
    "* [Detailed introduction to CNNs and their implementation in PyTorch](https://adventuresinmachinelearning.com/convolutional-neural-networks-tutorial-in-pytorch/) using the similar MNIST dataset from www.adventuresinmachinelearning.com"
   ]
  },
  {
   "cell_type": "markdown",
   "metadata": {},
   "source": [
    "## Table of contents\n",
    "\n",
    "* Introduction \n",
    "* Load required libraries\n",
    "* Transforms and data loaders\n",
    "* Network architecture\n",
    "* Training the network\n",
    "* Model evaluation\n",
    "* Saving and loading a network\n",
    "* Predictor function"
   ]
  },
  {
   "cell_type": "markdown",
   "metadata": {},
   "source": [
    "## Load required libraries"
   ]
  },
  {
   "cell_type": "code",
   "execution_count": 3,
   "metadata": {},
   "outputs": [],
   "source": [
    "import time\n",
    "import numpy as np\n",
    "import matplotlib.pyplot as plt\n",
    "import matplotlib.ticker as ticker\n",
    "%matplotlib inline\n",
    "\n",
    "import torch \n",
    "from torch import nn, optim\n",
    "import torch.nn.functional as F\n",
    "from torchvision import datasets, transforms"
   ]
  },
  {
   "cell_type": "markdown",
   "metadata": {},
   "source": [
    "## Transforms and data loaders"
   ]
  },
  {
   "cell_type": "code",
   "execution_count": 30,
   "metadata": {},
   "outputs": [
    {
     "name": "stdout",
     "output_type": "stream",
     "text": [
      "Images in training data: 60000\n",
      "Training batches: 600\n",
      "Batch size: 100\n",
      "Images per class in training data:\n",
      " {0: 6000, 1: 6000, 2: 6000, 3: 6000, 4: 6000, 5: 6000, 6: 6000, 7: 6000, 8: 6000, 9: 6000}\n"
     ]
    }
   ],
   "source": [
    "# Set batch size\n",
    "batch_size = 100\n",
    "\n",
    "# Data transforms\n",
    "transform = transforms.Compose([transforms.ToTensor(), \n",
    "                                transforms.Normalize([0.5, 0.5, 0.5], [0.5, 0.5, 0.5])])\n",
    "\n",
    "# Training and test data sets\n",
    "data_train = datasets.FashionMNIST(root=\"data/\", download=True, train=True, transform=transform)\n",
    "data_test = datasets.FashionMNIST(root=\"data/\", download=True, train=False, transform=transform)\n",
    "\n",
    "# Data loaders \n",
    "trainloader = torch.utils.data.DataLoader(dataset=data_train, batch_size=batch_size, shuffle=True)\n",
    "testloader = torch.utils.data.DataLoader(dataset=data_test, batch_size=batch_size, shuffle=False)\n",
    "\n",
    "print(\"Images in training data:\", len(trainloader.dataset))\n",
    "print(\"Training batches:\", len(trainloader))\n",
    "print(\"Batch size:\", batch_size)\n",
    "\n",
    "unique, counts = np.unique(trainloader.dataset.train_labels, return_counts=True)\n",
    "print(\"Images per class in training data:\\n\", dict(zip(unique, counts)))"
   ]
  },
  {
   "cell_type": "code",
   "execution_count": 34,
   "metadata": {},
   "outputs": [
    {
     "name": "stdout",
     "output_type": "stream",
     "text": [
      "Batch of images: torch.Size([100, 1, 28, 28])\n",
      "Batch of labels: torch.Size([100])\n"
     ]
    }
   ],
   "source": [
    "# Test trainloader\n",
    "dataiter = iter(testloader)\n",
    "images, labels = dataiter.next()\n",
    "print(\"Batch of images:\", images.size())   # batch_size * color channels * image dimensions\n",
    "print(\"Batch of labels:\", labels.size())   # batch_size"
   ]
  },
  {
   "cell_type": "code",
   "execution_count": 36,
   "metadata": {},
   "outputs": [
    {
     "data": {
      "image/png": "[encoded data removed]",
      "text/plain": [
       "<Figure size 432x288 with 1 Axes>"
      ]
     },
     "metadata": {
      "needs_background": "light"
     },
     "output_type": "display_data"
    }
   ],
   "source": [
    "# Draw random image from batch\n",
    "rnd = np.random.randint(0, batch_size-1)  \n",
    "img = images[rnd].squeeze().numpy() \n",
    "plt.imshow(img, cmap=\"gray\");"
   ]
  },
  {
   "cell_type": "markdown",
   "metadata": {},
   "source": [
    "## Network architecture"
   ]
  },
  {
   "cell_type": "code",
   "execution_count": 37,
   "metadata": {},
   "outputs": [],
   "source": [
    "# Number of categories\n",
    "num_classes = 10\n",
    "\n",
    "# Instantiate CNN() class\n",
    "class CNN(nn.Module):\n",
    "    def __init__(self, num_classes):\n",
    "        super(CNN, self).__init__()\n",
    "        self.conv1 = nn.Conv2d(in_channels=1, out_channels=32, kernel_size=5, stride=1, padding=2)\n",
    "        self.pool1 = nn.MaxPool2d(kernel_size=2, stride=2)\n",
    "        self.conv2 = nn.Conv2d(in_channels=32, out_channels=64, kernel_size=5, stride=1, padding=2)\n",
    "        self.pool2 = nn.MaxPool2d(kernel_size=2, stride=2)\n",
    "        self.fc1 = nn.Linear(in_features=7*7*64, out_features=512)\n",
    "        self.drop1 = nn.Dropout(0.25)   \n",
    "        self.fc2 = nn.Linear(512, 128)\n",
    "        self.drop2 = nn.Dropout(0.25)   \n",
    "        self.fc3 = nn.Linear(128, num_classes)\n",
    "        \n",
    "    # Forward pass\n",
    "    def forward(self, x):\n",
    "        x = F.relu(self.conv1(x))\n",
    "        x = self.pool1(x)\n",
    "        x = F.relu(self.conv2(x))\n",
    "        x = self.pool2(x)\n",
    "        x = x.view(x.size(0), -1)   # flatten the two-dimensional tensor\n",
    "        x = F.relu(self.fc1(x))\n",
    "        x = self.drop1(x)\n",
    "        x = F.relu(self.fc2(x))\n",
    "        x = self.drop2(x)\n",
    "        x = F.log_softmax(self.fc3(x), dim=1)   # LogSoftmax for NLLLoss criterion \n",
    "        return x\n",
    "    \n",
    "model = CNN(num_classes)"
   ]
  },
  {
   "cell_type": "markdown",
   "metadata": {},
   "source": [
    "## Training the Network\n",
    "\n",
    "### Train network on GPU if cuda-GPU is available"
   ]
  },
  {
   "cell_type": "code",
   "execution_count": 39,
   "metadata": {},
   "outputs": [
    {
     "name": "stdout",
     "output_type": "stream",
     "text": [
      "Device: cuda\n"
     ]
    }
   ],
   "source": [
    "# Define device\n",
    "device = torch.device('cuda' if torch.cuda.is_available() else 'cpu')\n",
    "print(\"Device:\", device)\n",
    "\n",
    "# Send model to device\n",
    "model.to(device);"
   ]
  },
  {
   "cell_type": "markdown",
   "metadata": {},
   "source": [
    "### Training hyperparameters"
   ]
  },
  {
   "cell_type": "code",
   "execution_count": 40,
   "metadata": {},
   "outputs": [],
   "source": [
    "num_epochs = 3\n",
    "learning_rate = 0.003\n",
    "criterion = nn.NLLLoss()\n",
    "optimizer = optim.Adam(model.parameters(), lr=learning_rate)\n",
    "\n",
    "# Print out training progress every {print_every} batches\n",
    "print_every = 100 "
   ]
  },
  {
   "cell_type": "markdown",
   "metadata": {},
   "source": [
    "### Actual training"
   ]
  },
  {
   "cell_type": "code",
   "execution_count": 41,
   "metadata": {},
   "outputs": [
    {
     "name": "stdout",
     "output_type": "stream",
     "text": [
      "Start of traing -- Device: cuda -- Epochs: 3 -- Batches: 600 -- Batch size: 100\n",
      "Epoch: 1/3 -- Batches: 100/600 -- Training loss: 0.871 -- Training accuracy: 0.670\n",
      "Epoch: 1/3 -- Batches: 200/600 -- Training loss: 0.499 -- Training accuracy: 0.814\n",
      "Epoch: 1/3 -- Batches: 300/600 -- Training loss: 0.434 -- Training accuracy: 0.842\n",
      "Epoch: 1/3 -- Batches: 400/600 -- Training loss: 0.404 -- Training accuracy: 0.854\n",
      "Epoch: 1/3 -- Batches: 500/600 -- Training loss: 0.379 -- Training accuracy: 0.862\n",
      "Epoch: 1/3 -- Batches: 600/600 -- Training loss: 0.361 -- Training accuracy: 0.873\n",
      "Epoch: 2/3 -- Batches: 100/600 -- Training loss: 0.327 -- Training accuracy: 0.880\n",
      "Epoch: 2/3 -- Batches: 200/600 -- Training loss: 0.348 -- Training accuracy: 0.879\n",
      "Epoch: 2/3 -- Batches: 300/600 -- Training loss: 0.309 -- Training accuracy: 0.889\n",
      "Epoch: 2/3 -- Batches: 400/600 -- Training loss: 0.310 -- Training accuracy: 0.884\n",
      "Epoch: 2/3 -- Batches: 500/600 -- Training loss: 0.303 -- Training accuracy: 0.889\n",
      "Epoch: 2/3 -- Batches: 600/600 -- Training loss: 0.294 -- Training accuracy: 0.897\n",
      "Epoch: 3/3 -- Batches: 100/600 -- Training loss: 0.289 -- Training accuracy: 0.896\n",
      "Epoch: 3/3 -- Batches: 200/600 -- Training loss: 0.281 -- Training accuracy: 0.896\n",
      "Epoch: 3/3 -- Batches: 300/600 -- Training loss: 0.281 -- Training accuracy: 0.900\n",
      "Epoch: 3/3 -- Batches: 400/600 -- Training loss: 0.287 -- Training accuracy: 0.897\n",
      "Epoch: 3/3 -- Batches: 500/600 -- Training loss: 0.270 -- Training accuracy: 0.901\n",
      "Epoch: 3/3 -- Batches: 600/600 -- Training loss: 0.284 -- Training accuracy: 0.897\n",
      "Training complete. Total training time: 52.6 seconds\n"
     ]
    }
   ],
   "source": [
    "# Code for printouts and visualizations ----------------\n",
    "\n",
    "start_time = time.time()\n",
    "\n",
    "print(\"Start of traing -- Device: {} -- Epochs: {} -- Batches: {} -- Batch size: {}\"\n",
    "      .format(device, num_epochs, len(trainloader), batch_size))\n",
    "\n",
    "# Initiate variables and lists for training progress printouts and visualizations\n",
    "running_loss = 0\n",
    "running_total = 0\n",
    "running_correct = 0\n",
    "loss_list = [] \n",
    "loss_list_print_every = [] \n",
    "\n",
    "\n",
    "# Code for actual training -----------------------------\n",
    "\n",
    "# Set model to training mode\n",
    "model.train()\n",
    "\n",
    "for epoch in range(num_epochs):\n",
    "    for i, (images, labels) in enumerate(trainloader):       \n",
    "        \n",
    "        # Send data to GPU\n",
    "        images, labels = images.to(device), labels.to(device)\n",
    "        \n",
    "        # Forward and backward pass\n",
    "        output = model(images)\n",
    "        loss = criterion(output, labels)\n",
    "        optimizer.zero_grad()\n",
    "        loss.backward()\n",
    "        optimizer.step()\n",
    "        \n",
    "\n",
    "# Code for printouts and visualizations ----------------\n",
    "        \n",
    "        # Store running loss, total, correct\n",
    "        running_loss += loss.item()\n",
    "        _, predicted = torch.max(output.data, 1)\n",
    "        running_total += labels.size(0)\n",
    "        running_correct += (predicted == labels).sum().item()       \n",
    "\n",
    "        loss_list.append(loss.item())\n",
    "        \n",
    "        # Print out  average training loss and accuracy every {print_every} batches\n",
    "        if (i+1) % print_every == 0:         \n",
    "            print(\"Epoch: {}/{} -- Batches: {}/{} -- Training loss: {:.3f} -- Training accuracy: {:.3f}\"\n",
    "                  .format(epoch+1, num_epochs, i+1, len(trainloader), \n",
    "                          running_loss/print_every, running_correct/running_total))\n",
    "            \n",
    "            # Store running loss in list\n",
    "            loss_list_print_every.append(running_loss/print_every)\n",
    "            \n",
    "            # Reset running loss and accuracy\n",
    "            running_loss = 0\n",
    "            running_total = 0\n",
    "            running_correct = 0\n",
    "            \n",
    "print(\"Training complete. Total training time: {:.1f} seconds\".format(time.time() - start_time))"
   ]
  },
  {
   "cell_type": "markdown",
   "metadata": {},
   "source": [
    "### Training progress visualization"
   ]
  },
  {
   "cell_type": "code",
   "execution_count": 47,
   "metadata": {},
   "outputs": [
    {
     "data": {
      "image/png": "[encoded data removed]",
      "text/plain": [
       "<Figure size 864x576 with 2 Axes>"
      ]
     },
     "metadata": {
      "needs_background": "light"
     },
     "output_type": "display_data"
    }
   ],
   "source": [
    "plt.figure(figsize=(12,8))\n",
    "\n",
    "plt.subplot(2,1,1)\n",
    "xticks = np.arange(0, len(loss_list)+100, 100)\n",
    "plt.plot(loss_list)\n",
    "plt.xticks(xticks)\n",
    "plt.xticks(rotation=90)\n",
    "plt.xlabel(\"Batch\")\n",
    "plt.ylabel(\"Loss per batch\")\n",
    "\n",
    "plt.subplot(2,1,2)\n",
    "xticks = np.arange(1, len(loss_list_print_every)+1, 1)\n",
    "plt.plot(loss_list_print_every)\n",
    "plt.xticks(xticks)\n",
    "plt.xlabel(str(print_every)+\" Batches\")\n",
    "plt.ylabel(\"Average loss per batch\")\n",
    "\n",
    "plt.show()"
   ]
  },
  {
   "cell_type": "markdown",
   "metadata": {},
   "source": [
    "## Model evaluation"
   ]
  },
  {
   "cell_type": "markdown",
   "metadata": {},
   "source": [
    "### Run images through trained network"
   ]
  },
  {
   "cell_type": "code",
   "execution_count": 48,
   "metadata": {
    "scrolled": true
   },
   "outputs": [
    {
     "name": "stdout",
     "output_type": "stream",
     "text": [
      "Evaluating network on 10000 images in test set -- Test loss: 0.281 -- Test accuracy: 0.896\n"
     ]
    }
   ],
   "source": [
    "# Initialize variables and arrays to store loss and true and predicted labels\n",
    "running_loss = 0\n",
    "labels_true = np.array([], dtype=int)\n",
    "labels_pred = np.array([], dtype=int)\n",
    "\n",
    "# Set model to evaluation mode\n",
    "model.eval()\n",
    "\n",
    "with torch.no_grad():   # Deactive gradient calculations   \n",
    "    for i, (images, labels) in enumerate(testloader):       \n",
    "        images, labels = images.to(device), labels.to(device)\n",
    "    \n",
    "        # Forward pass\n",
    "        output = model(images)\n",
    "        loss = criterion(output, labels)\n",
    "        \n",
    "        # Store loss and true and predicted labels\n",
    "        running_loss += loss.item()     \n",
    "        _, predicted = torch.max(output.data, 1)      \n",
    "        labels_true = np.append(labels_true, labels.cpu().numpy())\n",
    "        labels_pred = np.append(labels_pred, predicted.cpu().numpy())\n",
    "\n",
    "test_accuracy = np.equal(labels_pred, labels_true).mean()         \n",
    "        \n",
    "print(\"Evaluating network on {} images in test set -- Test loss: {:.3f} -- Test accuracy: {:.3f}\"\n",
    "      .format(len(testloader.dataset), running_loss/len(testloader), test_accuracy))"
   ]
  },
  {
   "cell_type": "markdown",
   "metadata": {},
   "source": [
    "### Confusion matrix"
   ]
  },
  {
   "cell_type": "code",
   "execution_count": 49,
   "metadata": {
    "scrolled": true
   },
   "outputs": [
    {
     "name": "stdout",
     "output_type": "stream",
     "text": [
      "Normalized confusion matrix:\n",
      " [[0.906 0.002 0.009 0.016 0.005 0.003 0.054 0.    0.005 0.   ]\n",
      " [0.003 0.979 0.001 0.013 0.003 0.    0.001 0.    0.    0.   ]\n",
      " [0.024 0.001 0.844 0.008 0.077 0.    0.045 0.    0.001 0.   ]\n",
      " [0.025 0.005 0.007 0.897 0.032 0.    0.023 0.    0.011 0.   ]\n",
      " [0.    0.001 0.057 0.027 0.892 0.    0.021 0.    0.002 0.   ]\n",
      " [0.    0.    0.    0.    0.    0.981 0.    0.012 0.001 0.006]\n",
      " [0.191 0.    0.072 0.024 0.134 0.    0.571 0.    0.008 0.   ]\n",
      " [0.    0.    0.    0.    0.    0.015 0.    0.931 0.    0.054]\n",
      " [0.002 0.001 0.002 0.003 0.001 0.001 0.005 0.    0.985 0.   ]\n",
      " [0.    0.    0.    0.    0.    0.006 0.001 0.015 0.    0.978]]\n"
     ]
    }
   ],
   "source": [
    "cm = np.zeros((num_classes, num_classes))\n",
    "\n",
    "# Build confusion matrix\n",
    "for i in range(len(labels_true)):\n",
    "    cm[labels_true[i]][labels_pred[i]] +=1\n",
    "\n",
    "# Normalize values\n",
    "for i in range(num_classes):\n",
    "    cm[i] = cm[i] / cm[i].sum() \n",
    "    \n",
    "print(\"Normalized confusion matrix:\\n\", cm)"
   ]
  },
  {
   "cell_type": "code",
   "execution_count": 51,
   "metadata": {
    "scrolled": true
   },
   "outputs": [
    {
     "name": "stdout",
     "output_type": "stream",
     "text": [
      "Accuracy by category:\n",
      " {'T-shirt/top': 0.906, 'Trouser': 0.979, 'Pullover': 0.844, 'Dress': 0.897, 'Coat': 0.892, 'Sandal': 0.981, 'Shirt': 0.571, 'Sneaker': 0.931, 'Bag': 0.985, 'Ankle Boot': 0.978}\n"
     ]
    }
   ],
   "source": [
    "# Accuracy by category\n",
    "product_list = ['T-shirt/top', 'Trouser', 'Pullover', 'Dress', 'Coat', \n",
    "                'Sandal', 'Shirt', 'Sneaker', 'Bag', 'Ankle Boot']\n",
    "\n",
    "print(\"Accuracy by category:\\n\", dict(zip(product_list, cm.diagonal())))"
   ]
  },
  {
   "cell_type": "markdown",
   "metadata": {},
   "source": [
    "### Visualize confusion matrix\n",
    "\n",
    "The mapping of labels to products is from the [readme](https://github.com/zalandoresearch/fashion-mnist/blob/master/README.md#labels) in the Fashion-MNISt repository."
   ]
  },
  {
   "cell_type": "code",
   "execution_count": 52,
   "metadata": {
    "scrolled": true
   },
   "outputs": [
    {
     "data": {
      "image/png": "[encoded data removed]",
      "text/plain": [
       "<Figure size 432x288 with 2 Axes>"
      ]
     },
     "metadata": {
      "needs_background": "light"
     },
     "output_type": "display_data"
    }
   ],
   "source": [
    "# Set up plot\n",
    "fig = plt.figure()\n",
    "ax = fig.add_subplot(111)\n",
    "cax = ax.matshow(cm)\n",
    "fig.colorbar(cax)\n",
    "\n",
    "# Set up axes\n",
    "ax.set_xticklabels([''] + product_list, rotation=90)\n",
    "ax.set_yticklabels([''] + product_list)\n",
    "ax.xaxis.set_major_locator(ticker.MultipleLocator(1))\n",
    "ax.yaxis.set_major_locator(ticker.MultipleLocator(1))\n",
    "\n",
    "plt.show()"
   ]
  },
  {
   "cell_type": "markdown",
   "metadata": {},
   "source": [
    "## Saving and loading a network"
   ]
  },
  {
   "cell_type": "code",
   "execution_count": 53,
   "metadata": {},
   "outputs": [],
   "source": [
    "#Save the state dictionary\n",
    "filename = \"CNN_FashionMNIST_checkpoint.pth\"\n",
    "torch.save(model.state_dict(), filename)"
   ]
  },
  {
   "cell_type": "code",
   "execution_count": 54,
   "metadata": {},
   "outputs": [
    {
     "name": "stdout",
     "output_type": "stream",
     "text": [
      "CNN(\n",
      "  (conv1): Conv2d(1, 32, kernel_size=(5, 5), stride=(1, 1), padding=(2, 2))\n",
      "  (pool1): MaxPool2d(kernel_size=2, stride=2, padding=0, dilation=1, ceil_mode=False)\n",
      "  (conv2): Conv2d(32, 64, kernel_size=(5, 5), stride=(1, 1), padding=(2, 2))\n",
      "  (pool2): MaxPool2d(kernel_size=2, stride=2, padding=0, dilation=1, ceil_mode=False)\n",
      "  (fc1): Linear(in_features=3136, out_features=512, bias=True)\n",
      "  (drop1): Dropout(p=0.25)\n",
      "  (fc2): Linear(in_features=512, out_features=128, bias=True)\n",
      "  (drop2): Dropout(p=0.25)\n",
      "  (fc3): Linear(in_features=128, out_features=10, bias=True)\n",
      ")\n"
     ]
    }
   ],
   "source": [
    "# Instantiate model - the architecture needs to be identical with the trained model\n",
    "loaded_model = CNN(num_classes)\n",
    "\n",
    "# Load statedict into model\n",
    "loaded_model.load_state_dict(torch.load(filename))\n",
    "\n",
    "print(loaded_model)\n",
    "model = loaded_model"
   ]
  },
  {
   "cell_type": "markdown",
   "metadata": {},
   "source": [
    "## Predictor function"
   ]
  },
  {
   "cell_type": "code",
   "execution_count": 55,
   "metadata": {},
   "outputs": [],
   "source": [
    "def predict(model):\n",
    "    '''This function draws a random image from a batch of the test data, passes the image through the \n",
    "    trained model, and visualizes its class probabilities.'''\n",
    "\n",
    "    # Load a batch from the test set\n",
    "    dataiter = iter(testloader)\n",
    "    images, labels = dataiter.next()\n",
    "\n",
    "    # Draw an image and probability vector from the batch\n",
    "    rnd = np.random.randint(0, batch_size-1)  \n",
    "    img = images[rnd]   # image is stored as 1x28x28 tensor\n",
    "\n",
    "    # convert tensor to size 1x1x28x28 (= batch of size 1)\n",
    "    img_tensor = img.unsqueeze(0)\n",
    "\n",
    "    # Send model to CPU for inference and set model to evaluation mode\n",
    "    model = model.to(\"cpu\")\n",
    "    model.eval()   \n",
    "\n",
    "    # Pass the image through the model\n",
    "    with torch.no_grad():\n",
    "        output = model.forward(img_tensor)\n",
    "        output = torch.exp(output)   # Take exponential of output to get non-logarithmized probabilies\n",
    "\n",
    "    probability_list = output.tolist()[0]   # class probabilities for the image\n",
    "\n",
    "    # Map labels to product names\n",
    "    product_list = ['T-shirt/top', 'Trouser', 'Pullover', 'Dress', 'Coat', \n",
    "                    'Sandal', 'Shirt', 'Sneaker', 'Bag', 'Ankle Boot']\n",
    "    \n",
    "    # Convert image to 2D-array \n",
    "    img = img.numpy().squeeze()\n",
    "    \n",
    "    # Visualize results\n",
    "    fig, (ax1, ax2) = plt.subplots(figsize=(8,12), ncols=2)\n",
    "    ax1.imshow(img, cmap=\"gray\")\n",
    "    ax1.axis(\"off\")\n",
    "    ax2.barh(range(num_classes), probability_list)\n",
    "    ax2.set_aspect(0.1)\n",
    "    ax2.set_yticks(range(num_classes))\n",
    "    ax2.set_yticklabels(product_list, size = \"small\");\n",
    "    ax2.set_title(\"Class Probabilities\")\n",
    "    ax2.set_xlim(0, 1.1)\n",
    "    plt.tight_layout()"
   ]
  },
  {
   "cell_type": "code",
   "execution_count": 62,
   "metadata": {},
   "outputs": [
    {
     "data": {
      "image/png": "[encoded data removed]",
      "text/plain": [
       "<Figure size 576x864 with 2 Axes>"
      ]
     },
     "metadata": {
      "needs_background": "light"
     },
     "output_type": "display_data"
    }
   ],
   "source": [
    "predict(model)"
   ]
  }
 ],
 "metadata": {
  "kernelspec": {
   "display_name": "Python 3",
   "language": "python",
   "name": "python3"
  },
  "language_info": {
   "codemirror_mode": {
    "name": "ipython",
    "version": 3
   },
   "file_extension": ".py",
   "mimetype": "text/x-python",
   "name": "python",
   "nbconvert_exporter": "python",
   "pygments_lexer": "ipython3",
   "version": "3.7.1"
  }
 },
 "nbformat": 4,
 "nbformat_minor": 2
}
